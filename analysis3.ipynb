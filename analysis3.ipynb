{
 "cells": [
  {
   "cell_type": "code",
   "execution_count": 43,
   "id": "3772f412-3d51-4569-b6d2-a39db9830771",
   "metadata": {},
   "outputs": [],
   "source": [
    "#!/usr/bin/env python3\n",
    "\n",
    "import csv\n",
    "import sys\n",
    "import matplotlib.pyplot as plt\n",
    "from mpl_toolkits.mplot3d import Axes3D\n",
    "import numpy as np\n",
    "import pandas as pd"
   ]
  },
  {
   "cell_type": "code",
   "execution_count": 145,
   "id": "c1d5c905-a36e-426d-8760-f8d2d8206247",
   "metadata": {},
   "outputs": [],
   "source": [
    "def read_pos(file):\n",
    "    t = []\n",
    "    x = []\n",
    "    y = []\n",
    "    z = []\n",
    "    d = [] \n",
    "    reader = csv.reader(open(file))\n",
    "    data = [row for row in reader]\n",
    "    \n",
    "    # rosbag開始時刻: ini_t\n",
    "    ini_t = float(data[1][0])\n",
    "    \n",
    "    for row in data[1:]:    \n",
    "        if row[1] == '':\n",
    "            continue\n",
    "        t.append(float(row[0]))\n",
    "        x.append(float(row[1]))\n",
    "        y.append(float(row[2]))\n",
    "        z.append(float(row[3]))\n",
    "        a = np.sqrt(float(row[1])**2 + float(row[2])**2 + float(row[3])**2)\n",
    "        d.append(float(a))\n",
    "    \n",
    "    for i in range(len(t)):\n",
    "        t[i] -= ini_t\n",
    "    \n",
    "    return x, y, z, d, t"
   ]
  },
  {
   "cell_type": "code",
   "execution_count": 85,
   "id": "d9d8f091-e0a9-4228-a324-f57ec9b481c1",
   "metadata": {},
   "outputs": [],
   "source": [
    "file1_paths = ['./csv_1/0_1.csv.converted.csv', \n",
    "              './csv_1/0_2.csv.converted.csv', \n",
    "              './csv_1/0_3.csv.converted.csv', \n",
    "             './csv_1/1_2.csv.converted.csv', \n",
    "             './csv_1/1_3.csv.converted.csv', \n",
    "             './csv_1/2_3.csv.converted.csv']\n",
    "\n",
    "file2_paths = ['./csv_2/0_1.csv.converted.csv', \n",
    "              './csv_2/0_2.csv.converted.csv', \n",
    "              './csv_2/0_3.csv.converted.csv', \n",
    "             './csv_2/1_2.csv.converted.csv', \n",
    "             './csv_2/1_3.csv.converted.csv', \n",
    "             './csv_2/2_3.csv.converted.csv']"
   ]
  },
  {
   "cell_type": "code",
   "execution_count": null,
   "id": "be12db30-84d2-4401-b3b5-99555ae15728",
   "metadata": {},
   "outputs": [],
   "source": []
  },
  {
   "cell_type": "code",
   "execution_count": 138,
   "id": "690905fb-5107-403c-a4db-bfd441363e5f",
   "metadata": {},
   "outputs": [],
   "source": [
    "def graph1(file_path, xlim):\n",
    "    x, y, z, d, t = read_pos(file_path)\n",
    "    \n",
    "    fig, axes = plt.subplots(2, 2, figsize=(18, 14), dpi=90)\n",
    "    print('--------------------')\n",
    "    for ax, col, data, name in zip(axes.ravel(), \n",
    "                                        ['orange','r','b','g'], \n",
    "                                        [d,x,y,z], \n",
    "                                        ['D','X','Y','Z']):\n",
    "        lmax = float(t[-1])\n",
    "        ax.set_title(name)\n",
    "        ax.plot(t, data, '.', color=col)\n",
    "        ax.hlines([np.mean(data)], xlim, lmax, col,label='mean')\n",
    "        ax.set_xlabel('time[s]')\n",
    "        ax.set_ylabel('distance[m]')\n",
    "        ax.set_xlim(xlim,t[-1])\n",
    "        ax.legend()\n",
    "        print(f\"{name}\", '&',  \n",
    "              '{:.03f}'.format(np.mean(data)), \n",
    "              '&', '{:.03f}'.format(abs(max(data)) - np.mean(data)), \n",
    "              '&', '{:.03f}'.format(np.std(data)))"
   ]
  },
  {
   "cell_type": "code",
   "execution_count": 139,
   "id": "037ce4d2-c437-494b-9eba-6b884e6af7ed",
   "metadata": {},
   "outputs": [],
   "source": [
    "# graph1(file1_paths[0])"
   ]
  },
  {
   "cell_type": "code",
   "execution_count": 140,
   "id": "3fc75879-ea42-4f1a-a009-b94b3886393d",
   "metadata": {},
   "outputs": [],
   "source": [
    "def output1(files, xlim):\n",
    "    for file, tag in zip(files, ['0_1','0_2','0_3','1_2','1_3','2_3']):\n",
    "        print(tag,'& \\(平均 [m] \\) & \\偏差 [m] \\) & \\(標準偏差 \\) ', )\n",
    "        graph1(file, xlim)\n",
    "        plt.show()"
   ]
  },
  {
   "cell_type": "code",
   "execution_count": 146,
   "id": "04dff27c-32c3-4da3-b4f2-8244c340995a",
   "metadata": {},
   "outputs": [],
   "source": [
    "# output1(file1_paths, 500)"
   ]
  },
  {
   "cell_type": "code",
   "execution_count": null,
   "id": "9aefa39c-2e76-4f7a-8291-1e9a40d45637",
   "metadata": {},
   "outputs": [],
   "source": []
  },
  {
   "cell_type": "code",
   "execution_count": 147,
   "id": "733839a0-9b9f-4b03-bdc4-6918fcd4a308",
   "metadata": {},
   "outputs": [],
   "source": [
    "# output1(file2_paths,230)"
   ]
  },
  {
   "cell_type": "code",
   "execution_count": 125,
   "id": "b21dc769-21e8-4f90-ae17-dda7bc39723b",
   "metadata": {},
   "outputs": [],
   "source": [
    "def graph2(file_path, xlim, ylim):\n",
    "    x, y, z, d, t = read_pos(file_path)\n",
    "    \n",
    "    mean_x = np.mean(x)\n",
    "    mean_y = np.mean(y)\n",
    "    mean_z = np.mean(z)\n",
    "    mean_d = np.mean(d)\n",
    "    lmax = t[-1]\n",
    "    \n",
    "    # Plot\n",
    "    # fig, axes = plt.subplots(2, 2, figsize=(9, 7), dpi=90)\n",
    "    fig, axes = plt.subplots(figsize=(9, 7), dpi=90)\n",
    "    \n",
    "    for col, data, mean, name in zip(['orange','r','b','g'],\n",
    "                                     [d,x,y,z],\n",
    "                                     [mean_d,mean_x,mean_y,mean_z],\n",
    "                                     ['D','x','y','z']):\n",
    "        plt.plot(t, data-mean, '.', color=col, label=name)\n",
    "        plt.legend()\n",
    "        axes.xaxis.set_visible(True)\n",
    "        axes.set_xlabel('time[s]')\n",
    "        axes.set_ylabel('Distance[m]')\n",
    "    plt.hlines([0], 0, lmax, \"black\")\n",
    "    axes.set_xlim(xlim,t[-1])\n",
    "    axes.set_ylim(-ylim,ylim)\n",
    "    plt.show()\n",
    "\n",
    "def output2(files, xlim, ylim):\n",
    "    for file, tag in zip(files, ['0_1','0_2','0_3','1_2','1_3','2_3']):\n",
    "        print(tag)\n",
    "        graph2(file, xlim, ylim)\n",
    "        plt.show()"
   ]
  },
  {
   "cell_type": "code",
   "execution_count": 143,
   "id": "a9b8ce12-4282-417a-8a2f-dcb7a1896032",
   "metadata": {},
   "outputs": [],
   "source": [
    "# output2(file1_paths, 450, 1) # 誤差1mの範囲に注目"
   ]
  },
  {
   "cell_type": "code",
   "execution_count": 148,
   "id": "9790263e-aa56-47b1-8799-162bfba25048",
   "metadata": {},
   "outputs": [],
   "source": [
    "# output2(file2_paths, 130, 1)"
   ]
  },
  {
   "cell_type": "code",
   "execution_count": 170,
   "id": "0a7246e8-b83e-4cb1-9307-25d1a37da791",
   "metadata": {},
   "outputs": [],
   "source": [
    "def read_pos_xy(file):\n",
    "    x = []\n",
    "    y = []\n",
    "    d = []\n",
    "    t = []\n",
    "    reader = csv.reader(open(file))\n",
    "    data = [row for row in reader]\n",
    "    \n",
    "    ini_t = float(data[1][0])\n",
    "    for row in data[1:]:\n",
    "        if row[1] == '':\n",
    "            continue\n",
    "        t.append(float(row[0]))\n",
    "        x.append(float(row[1]))\n",
    "        y.append(float(row[2]))\n",
    "        a = np.sqrt(float(row[1])**2 + float(row[2])**2)\n",
    "        d.append(float(a))\n",
    "    \n",
    "    \n",
    "    for i in range(len(t)):\n",
    "        t[i] -= ini_t\n",
    "    \n",
    "    return x, y, d, t"
   ]
  },
  {
   "cell_type": "code",
   "execution_count": 171,
   "id": "81cd2910-2fd6-4f8c-8082-254c44d65405",
   "metadata": {},
   "outputs": [],
   "source": [
    "# def output_graph_xy(file_path, ylim):\n",
    "#     x, y, d, t = read_pos_xy(file_path)\n",
    "    \n",
    "#     mean_x = np.mean(x)\n",
    "#     mean_y = np.mean(y)\n",
    "#     mean_d = np.mean(d)\n",
    "    \n",
    "#     # Plot\n",
    "#     fig, axes = plt.subplots(figsize=(9, 7), dpi=90)\n",
    "    \n",
    "#     for ax, col, data, mean, name in zip(axes.ravel(), \n",
    "#                                         ['orange','r','b'], \n",
    "#                                         [d,x,y],\n",
    "#                                         [mean_d,mean_x,mean_y],\n",
    "#                                         ['D*','X*','Y*']):\n",
    "#         lmax = len(data)\n",
    "#         ax.set_title(name)\n",
    "#         ax.set_ylim(-ylim, ylim)\n",
    "#         ax.axes.xaxis.set_visible(False)\n",
    "#         ax.plot(data-mean, '.', color=col)\n",
    "#         ax.hlines([0], 0, lmax, \"black\")"
   ]
  },
  {
   "cell_type": "code",
   "execution_count": null,
   "id": "2dac1d65-39b0-46ae-85c9-b873a76c61e0",
   "metadata": {},
   "outputs": [],
   "source": []
  },
  {
   "cell_type": "code",
   "execution_count": 173,
   "id": "f19c0e30-fd66-4529-9341-7709742032cb",
   "metadata": {},
   "outputs": [
    {
     "name": "stdout",
     "output_type": "stream",
     "text": [
      "Tag position Ex1\n",
      "Distance(0-1)= 5.0093 m\n",
      "Distance(0-2)= 10.1227 m\n",
      "Distance(0-3)= 15.1692 m\n",
      "-------\n",
      "Tag position Ex2\n",
      "Distance(0-1)= 4.8557 m\n",
      "Distance(0-2)= 9.7142 m\n",
      "Distance(0-3)= 14.6543 m\n",
      "-------\n"
     ]
    },
    {
     "data": {
      "image/png": "[encoded data removed]",
      "text/plain": [
       "<Figure size 1152x432 with 1 Axes>"
      ]
     },
     "metadata": {
      "needs_background": "light"
     },
     "output_type": "display_data"
    }
   ],
   "source": [
    "fig = plt.figure(figsize=(16, 6))\n",
    "ax = fig.add_subplot(111)\n",
    "\n",
    "for file, title, col, label in zip([file1_paths, file2_paths],\n",
    "                                   ['Tag position Ex1', 'Tag position Ex2'],\n",
    "                                   ['b','orange'],\n",
    "                                   ['Ex1', 'Ex2']):\n",
    "    \n",
    "    x0_1, y0_1, d0_1, t0_1 = read_pos_xy(file[0])\n",
    "    x0_2, y0_2, d0_2, t0_2 = read_pos_xy(file[1])\n",
    "    x0_3, y0_3, d0_3, t0_3 = read_pos_xy(file[2])\n",
    "\n",
    "    mean_d = [np.mean(d0_1), np.mean(d0_2), np.mean(d0_3)]\n",
    "    \n",
    "    print(title)\n",
    "    print('Distance(0-1)=', '{:.04f}'.format(mean_d[0]),'m')\n",
    "    print('Distance(0-2)=', '{:.04f}'.format(mean_d[1]),'m')\n",
    "    print('Distance(0-3)=', '{:.04f}'.format(mean_d[2]),'m')\n",
    "    print('-------')\n",
    "\n",
    "    x = x0_1 + x0_2 + x0_3\n",
    "    y = y0_1 + y0_2 + y0_3\n",
    "    \n",
    "    \n",
    "    ax.set_ylim(0, 6)\n",
    "    ax.set_xlim(0, 16)\n",
    "    ax.set_xlabel('x, East')\n",
    "    ax.set_ylabel('y, North')\n",
    "    plt.scatter(x, y, color=col,label=label)\n",
    "    plt.legend()\n",
    "\n",
    "plt.show()"
   ]
  },
  {
   "cell_type": "code",
   "execution_count": 174,
   "id": "ab30dae2-a058-4823-bd4f-8cd9365d3bea",
   "metadata": {},
   "outputs": [],
   "source": [
    "# EX1を絞る\n",
    "# 1057-1065で大きくなる\n",
    "# 1072-1162で小さくなる\n",
    "def filter_ex1(file):\n",
    "    x = []\n",
    "    y = []\n",
    "    z = []\n",
    "    d = []\n",
    "    reader = csv.reader(open(file))\n",
    "    data = [row for row in reader]\n",
    "\n",
    "    for row in data[1:1056]:\n",
    "        if row[1] == '':\n",
    "            continue\n",
    "        x1.append(float(row[1]))\n",
    "        # y.append(float(row[2]))\n",
    "        # z.append(float(row[3]))\n",
    "        # a = np.sqrt(float(row[1])**2 + float(row[2])**2 + float(row[3])**2)\n",
    "        # d.append(float(a))\n",
    "        \n",
    "    for row in data[1057:1065]:\n",
    "        if row[1] == '':\n",
    "            continue\n",
    "        x2.append(float(row[1]))\n",
    "        # y.append(float(row[2]))\n",
    "        # z.append(float(row[3]))\n",
    "        # a = np.sqrt(float(row[1])**2 + float(row[2])**2 + float(row[3])**2)\n",
    "        # d.append(float(a))\n",
    "        \n",
    "    for row in data[1066:1072]:\n",
    "        if row[1] == '':\n",
    "            continue\n",
    "        x3.append(float(row[1]))\n",
    "        # y.append(float(row[2]))\n",
    "        # z.append(float(row[3]))\n",
    "        # a = np.sqrt(float(row[1])**2 + float(row[2])**2 + float(row[3])**2)\n",
    "        # d.append(float(a))\n",
    "    \n",
    "    for row in data[1:1056]:\n",
    "        if row[1] == '':\n",
    "            continue\n",
    "        x.append(float(row[1]))\n",
    "        # y.append(float(row[2]))\n",
    "        # z.append(float(row[3]))\n",
    "        # a = np.sqrt(float(row[1])**2 + float(row[2])**2 + float(row[3])**2)\n",
    "        # d.append(float(a))\n",
    "    return x"
   ]
  },
  {
   "cell_type": "code",
   "execution_count": 133,
   "id": "ed9de26c-fcc7-486e-8b98-e5419014930f",
   "metadata": {},
   "outputs": [
    {
     "ename": "NameError",
     "evalue": "name 'x1' is not defined",
     "output_type": "error",
     "traceback": [
      "\u001b[0;31m---------------------------------------------------------------------------\u001b[0m",
      "\u001b[0;31mNameError\u001b[0m                                 Traceback (most recent call last)",
      "\u001b[0;32m/var/folders/dr/8s0bq33x6dgc8zgnp5174hzh0000gn/T/ipykernel_43205/426764946.py\u001b[0m in \u001b[0;36m<module>\u001b[0;34m\u001b[0m\n\u001b[0;32m----> 1\u001b[0;31m \u001b[0mx1\u001b[0m \u001b[0;34m=\u001b[0m \u001b[0mfilter_ex1\u001b[0m\u001b[0;34m(\u001b[0m\u001b[0mfile1_paths\u001b[0m\u001b[0;34m[\u001b[0m\u001b[0;36m0\u001b[0m\u001b[0;34m]\u001b[0m\u001b[0;34m)\u001b[0m\u001b[0;34m\u001b[0m\u001b[0;34m\u001b[0m\u001b[0m\n\u001b[0m",
      "\u001b[0;32m/var/folders/dr/8s0bq33x6dgc8zgnp5174hzh0000gn/T/ipykernel_43205/2280892007.py\u001b[0m in \u001b[0;36mfilter_ex1\u001b[0;34m(file)\u001b[0m\n\u001b[1;32m     13\u001b[0m         \u001b[0;32mif\u001b[0m \u001b[0mrow\u001b[0m\u001b[0;34m[\u001b[0m\u001b[0;36m1\u001b[0m\u001b[0;34m]\u001b[0m \u001b[0;34m==\u001b[0m \u001b[0;34m''\u001b[0m\u001b[0;34m:\u001b[0m\u001b[0;34m\u001b[0m\u001b[0;34m\u001b[0m\u001b[0m\n\u001b[1;32m     14\u001b[0m             \u001b[0;32mcontinue\u001b[0m\u001b[0;34m\u001b[0m\u001b[0;34m\u001b[0m\u001b[0m\n\u001b[0;32m---> 15\u001b[0;31m         \u001b[0mx1\u001b[0m\u001b[0;34m.\u001b[0m\u001b[0mappend\u001b[0m\u001b[0;34m(\u001b[0m\u001b[0mfloat\u001b[0m\u001b[0;34m(\u001b[0m\u001b[0mrow\u001b[0m\u001b[0;34m[\u001b[0m\u001b[0;36m1\u001b[0m\u001b[0;34m]\u001b[0m\u001b[0;34m)\u001b[0m\u001b[0;34m)\u001b[0m\u001b[0;34m\u001b[0m\u001b[0;34m\u001b[0m\u001b[0m\n\u001b[0m\u001b[1;32m     16\u001b[0m         \u001b[0;31m# y.append(float(row[2]))\u001b[0m\u001b[0;34m\u001b[0m\u001b[0;34m\u001b[0m\u001b[0;34m\u001b[0m\u001b[0m\n\u001b[1;32m     17\u001b[0m         \u001b[0;31m# z.append(float(row[3]))\u001b[0m\u001b[0;34m\u001b[0m\u001b[0;34m\u001b[0m\u001b[0;34m\u001b[0m\u001b[0m\n",
      "\u001b[0;31mNameError\u001b[0m: name 'x1' is not defined"
     ]
    }
   ],
   "source": [
    "x1 = filter_ex1(file1_paths[0])"
   ]
  },
  {
   "cell_type": "code",
   "execution_count": null,
   "id": "7f6717b8-4183-4366-aee8-bf7ca79bdabc",
   "metadata": {},
   "outputs": [],
   "source": []
  }
 ],
 "metadata": {
  "kernelspec": {
   "display_name": "Python 3 (ipykernel)",
   "language": "python",
   "name": "python3"
  },
  "language_info": {
   "codemirror_mode": {
    "name": "ipython",
    "version": 3
   },
   "file_extension": ".py",
   "mimetype": "text/x-python",
   "name": "python",
   "nbconvert_exporter": "python",
   "pygments_lexer": "ipython3",
   "version": "3.8.12"
  }
 },
 "nbformat": 4,
 "nbformat_minor": 5
}
